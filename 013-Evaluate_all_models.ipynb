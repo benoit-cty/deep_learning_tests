{
 "cells": [
  {
   "cell_type": "markdown",
   "metadata": {},
   "source": [
    "# Evaluate our own model"
   ]
  },
  {
   "cell_type": "code",
   "execution_count": 2,
   "metadata": {},
   "outputs": [],
   "source": [
    "# Put these at the top of every notebook, to get automatic reloading and inline plotting\n",
    "%reload_ext autoreload\n",
    "%autoreload 2\n",
    "%matplotlib inline\n",
    "from IPython.core.interactiveshell import InteractiveShell\n",
    "InteractiveShell.ast_node_interactivity = \"all\""
   ]
  },
  {
   "cell_type": "code",
   "execution_count": null,
   "metadata": {},
   "outputs": [],
   "source": [
    "import sys\n",
    "import os\n",
    "os.environ[\"CUDA_DEVICE_ORDER\"]=\"PCI_BUS_ID\"   \n",
    "os.environ[\"CUDA_VISIBLE_DEVICES\"]=\"5\"\n",
    "import shutil\n",
    "import glob\n",
    "import matplotlib.pyplot as plt\n",
    "import matplotlib.image as mpimg\n",
    "\n",
    "from sklearn.metrics import confusion_matrix\n",
    "from fastai.conv_learner import *\n",
    "from fastai.model import *\n",
    "from fastai.plots import *\n",
    "import numpy as np\n",
    "\n",
    "PATH = \"../../datasets/boeing_vs_airbus/\"\n",
    "arch = resnext50\n",
    "\n",
    "def get_file_list(directory):\n",
    "    return [val for sublist in [[os.path.join(i[0], j) for j in i[2]] for i in os.walk(directory)] for val in sublist]\n",
    "\n",
    "\n",
    "def get_prediction(image, learn):   \n",
    "    trn_tfms, val_tfms = tfms_from_model(arch,300) # get transformations\n",
    "    im = val_tfms(open_image(image))\n",
    "    learn.precompute=False # We'll pass in a raw image, not activations\n",
    "    preds = learn.predict_array(im[None])\n",
    "    return preds\n",
    "\n",
    "\n",
    "def compute_stats(cm, classes, printout=False):\n",
    "    TN, FP, FN, TP = cm.ravel()\n",
    "    precision = TP/(TP+FP)\n",
    "    if printout: print(\"Precision : \", precision)\n",
    "    recall = TP/(TP+FN)\n",
    "    if printout: print(\"Recall : \", recall)\n",
    "    F1 = 2 * ((precision*recall)/(precision + recall))\n",
    "    if printout: print(\"F1 : \", F1)\n",
    "    F2 = 5 * ((precision*recall)/(4*precision + recall))\n",
    "    if printout: print(\"F2 : \", F2)\n",
    "\n",
    "def check_prediction(classe, classes, learn):\n",
    "    error = 0\n",
    "    files = get_file_list(f'{PATH}valid/' + classes[classe])\n",
    "    #print(\"Input images number : \", len(files))\n",
    "    csv = \"\"\n",
    "    for image in files:\n",
    "        preds = get_prediction(image, learn)\n",
    "        pred = np.argmax(preds)\n",
    "        if classe != pred:\n",
    "            error += 1\n",
    "    print(error, \"errors on\", len(files), \"predictions for\", classe)\n",
    "    return error, len(files)"
   ]
  },
  {
   "cell_type": "code",
   "execution_count": 4,
   "metadata": {},
   "outputs": [
    {
     "name": "stdout",
     "output_type": "stream",
     "text": [
      "Evaluate: resnext101_64_78_128_acc96.12_weights\n",
      "WARNING : Not right size, no evaluation !\n",
      "-------------------\n",
      "Evaluate: resnext5010_bestmodel\n",
      "3 errors on 154 predictions for 0\n",
      "2 errors on 155 predictions for 1\n",
      "-------------------\n",
      "Evaluate: resnext506_bestmodel\n",
      "2 errors on 154 predictions for 0\n",
      "2 errors on 155 predictions for 1\n",
      "-------------------\n",
      "Evaluate: resnext5011_bestmodel\n",
      "2 errors on 154 predictions for 0\n",
      "5 errors on 155 predictions for 1\n",
      "-------------------\n",
      "Evaluate: resnext509_bestmodel\n",
      "2 errors on 154 predictions for 0\n",
      "4 errors on 155 predictions for 1\n",
      "-------------------\n",
      "Evaluate: resnext504_bestmodel\n",
      "3 errors on 154 predictions for 0\n",
      "3 errors on 155 predictions for 1\n",
      "-------------------\n",
      "Evaluate: resnext50-13_clean_bestmodel\n",
      "3 errors on 154 predictions for 0\n",
      "4 errors on 155 predictions for 1\n",
      "-------------------\n",
      "Evaluate: resnext508_bestmodel\n",
      "4 errors on 154 predictions for 0\n",
      "1 errors on 155 predictions for 1\n",
      "-------------------\n",
      "Evaluate: resnext50_141_300_acc98.06_weights\n",
      "3 errors on 154 predictions for 0\n",
      "4 errors on 155 predictions for 1\n",
      "-------------------\n",
      "Best model :  resnext506_bestmodel\n"
     ]
    }
   ],
   "source": [
    "\n",
    "tfms = tfms_from_model(arch, 300)\n",
    "data = ImageClassifierData.from_paths(PATH, tfms=tfms, bs=8, num_workers=num_cpus())\n",
    "learn = ConvLearner.pretrained(arch, data, precompute=False, ps=0.5)\n",
    "#learn.load(\"resnext50_141_300_acc98.06_weights\") # 3 + 4 errors\n",
    "files = get_file_list(f'{PATH}'+'models')\n",
    "classes = [\"A380\", \"B747\"]\n",
    "best_model = \"\"\n",
    "best_errors = 500\n",
    "for file in files:\n",
    "    model = file[len(f'{PATH}'+'models/'):-3]\n",
    "    print(\"Evaluate:\", model)\n",
    "    try:\n",
    "        learn.load(model)\n",
    "        errors_B747, numbers_of_B747 = check_prediction(0, classes, learn)\n",
    "        errors_A380, numbers_of_A380 = check_prediction(1, classes, learn)\n",
    "        if (errors_B747 + errors_A380) < best_errors:\n",
    "            best_errors = errors_B747 + errors_A380\n",
    "            best_model = model\n",
    "        if (errors_B747 + errors_A380) > 7:\n",
    "            dest = shutil.move(file, f'{PATH}'+'models/bad/')\n",
    "        cm = np.array([[numbers_of_B747-errors_B747, errors_B747],[errors_A380, numbers_of_A380-errors_A380]])\n",
    "        compute_stats(cm, classes)\n",
    "    except RuntimeError:\n",
    "        print(\"WARNING : Not right size, no evaluation !\")\n",
    "        pass\n",
    "    print(\"-------------------\")\n",
    "print(\"Best model : \", best_model)\n"
   ]
  },
  {
   "cell_type": "code",
   "execution_count": 5,
   "metadata": {},
   "outputs": [
    {
     "name": "stdout",
     "output_type": "stream",
     "text": [
      "2 errors on 154 predictions for 0\n",
      "2 errors on 155 predictions for 1\n",
      "Precision :  0.987012987012987\n",
      "Recall :  0.987012987012987\n",
      "F1 :  0.987012987012987\n",
      "F2 :  0.9870129870129869\n",
      "[[152   2]\n",
      " [  2 153]]\n"
     ]
    },
    {
     "data": {
      "image/png": "[encoded data removed]",
      "text/plain": [
       "<Figure size 432x288 with 2 Axes>"
      ]
     },
     "metadata": {
      "needs_background": "light"
     },
     "output_type": "display_data"
    }
   ],
   "source": [
    "#best_model = 'resnext506_bestmodel'\n",
    "learn.load(best_model)\n",
    "errors_B747, numbers_of_B747 = check_prediction(0, classes, learn)\n",
    "errors_A380, numbers_of_A380 = check_prediction(1, classes, learn)\n",
    "cm = np.array([[numbers_of_B747-errors_B747, errors_B747],[errors_A380, numbers_of_A380-errors_A380]])\n",
    "compute_stats(cm, classes, printout=True)\n",
    "plot_confusion_matrix(cm, classes)"
   ]
  },
  {
   "cell_type": "code",
   "execution_count": null,
   "metadata": {},
   "outputs": [],
   "source": []
  }
 ],
 "metadata": {
  "kernelspec": {
   "display_name": "Python 3",
   "language": "python",
   "name": "python3"
  },
  "language_info": {
   "codemirror_mode": {
    "name": "ipython",
    "version": 3
   },
   "file_extension": ".py",
   "mimetype": "text/x-python",
   "name": "python",
   "nbconvert_exporter": "python",
   "pygments_lexer": "ipython3",
   "version": "3.7.1"
  }
 },
 "nbformat": 4,
 "nbformat_minor": 2
}
